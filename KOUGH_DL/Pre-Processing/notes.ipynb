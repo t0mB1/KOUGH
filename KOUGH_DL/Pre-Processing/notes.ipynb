{
  "cells": [
    {
      "cell_type": "code",
      "execution_count": null,
      "metadata": {},
      "outputs": [],
      "source": [
        "!pip install librosa\n",
        "!pip install tensorflow"
      ]
    },
    {
      "cell_type": "code",
      "execution_count": null,
      "metadata": {},
      "outputs": [],
      "source": [
        "import os\n",
        "import math\n",
        "import json\n",
        "import librosa\n",
        "import zipfile\n",
        "import numpy as np\n",
        "import tensorflow.keras as keras"
      ]
    },
    {
      "cell_type": "markdown",
      "metadata": {},
      "source": [
        "Download and unzip dataset .zip from Kaggle.com"
      ]
    },
    {
      "cell_type": "code",
      "execution_count": null,
      "metadata": {
        "gather": {
          "logged": 1645805104364
        }
      },
      "outputs": [],
      "source": [
        "path = 'coronahack-respiratory-sound-dataset.zip'\n",
        "zipFile = zipfile.ZipFile(path, 'r')\n",
        "\n",
        "zipFile.extractall('')\n",
        "zipFile.close()"
      ]
    },
    {
      "cell_type": "markdown",
      "metadata": {},
      "source": [
        "Pre-Processing of Coronahack Respiratory Sound Dataset below... "
      ]
    },
    {
      "cell_type": "code",
      "execution_count": null,
      "metadata": {
        "gather": {
          "logged": 1645881097761
        },
        "jupyter": {
          "outputs_hidden": false,
          "source_hidden": false
        },
        "nteract": {
          "transient": {
            "deleting": false
          }
        }
      },
      "outputs": [],
      "source": [
        "training_dataset_path = 'CoronaHack-Respiratory-Sound-Dataset/data/train'\n",
        "test_dataset_path = 'CoronaHack-Respiratory-Sound-Dataset/data/test'\n",
        "\n",
        "SAMPLE_RATE = 22050\n",
        "# DURATION = 30\n",
        "# SAMPLES_PER_TRACK = SAMPLE_RATE * DURATION\n",
        "\n",
        "numberOfSegments = 10\n",
        "hopLength = 512\n",
        "n_MFCC = 13\n",
        "n_FFT = 2048\n",
        "\n",
        "\n",
        "def getLabel(metadata):\n",
        "    label = 0\n",
        "    try:\n",
        "        if metadata['asthma'] == 'True':\n",
        "            # has asthma\n",
        "            if metadata['covid_status'] == 'healthy':\n",
        "                print('asthma')\n",
        "                return 1\n",
        "            print('asthma + covid')\n",
        "            return 3\n",
        "    except:\n",
        "        label = 0\n",
        "    try:\n",
        "        if metadata['covid_status'] == 'healthy':\n",
        "            return 0\n",
        "        else:\n",
        "            return 1\n",
        "    except:\n",
        "        return 4\n",
        "\n",
        "\n",
        "def preProcess(dataset_path):\n",
        "    data = {\n",
        "        \"mapping\": [\n",
        "            'Healthy',\n",
        "            'Astma',\n",
        "            'Covid',\n",
        "            'Astma-Covid',\n",
        "            'inconclusive'\n",
        "        ],\n",
        "        \"mfcc\": [],\n",
        "        \"labels\": [],\n",
        "    }\n",
        "\n",
        "    for i, (dirpath, _, filenames) in enumerate(os.walk(dataset_path)):\n",
        "        if dirpath == dataset_path:\n",
        "            continue\n",
        "\n",
        "        if len(filenames) == 0:\n",
        "            continue\n",
        "\n",
        "        metadata = {}\n",
        "\n",
        "        for file in filenames:\n",
        "            path = os.path.join(dirpath, file)\n",
        "\n",
        "            if str(file) == 'metadata.json':\n",
        "                f = open(path)\n",
        "                metadata = json.load(f)\n",
        "\n",
        "                label = getLabel(metadata)\n",
        "                data[\"labels\"].append(label)\n",
        "\n",
        "                continue\n",
        "\n",
        "            # load audio\n",
        "            try:\n",
        "                signal, sampleRate = librosa.load(path, sr=SAMPLE_RATE)\n",
        "            except:\n",
        "                print(\"Error processing\")\n",
        "                continue\n",
        "\n",
        "            # get MFCC\n",
        "            MFCC = librosa.feature.mfcc(\n",
        "                y=signal,\n",
        "                sr=sampleRate,\n",
        "                n_fft=n_FFT,\n",
        "                n_mfcc=n_MFCC,\n",
        "                hop_length=hopLength).T\n",
        "\n",
        "            # store mfcc for segment\n",
        "            data[\"mfcc\"].append(MFCC.tolist())\n",
        "\n",
        "    return data\n",
        "\n",
        "train_data = preProcess(training_dataset_path)\n",
        "test_data = preProcess(test_dataset_path)"
      ]
    },
    {
      "cell_type": "markdown",
      "metadata": {},
      "source": [
        "Just some output to see number of MFCCs created during pre-processing. "
      ]
    },
    {
      "cell_type": "code",
      "execution_count": null,
      "metadata": {
        "gather": {
          "logged": 1645883036127
        },
        "jupyter": {
          "outputs_hidden": false,
          "source_hidden": false
        },
        "nteract": {
          "transient": {
            "deleting": false
          }
        }
      },
      "outputs": [],
      "source": [
        "def displayMFCCs(data):\n",
        "    count = 0\n",
        "    for i in range(0, len(data[\"mfcc\"])):\n",
        "        for j in range(0, len(data[\"mfcc\"][i])):\n",
        "            for mffcc in data[\"mfcc\"][i][j]:\n",
        "                count += 1\n",
        "\n",
        "    print(\"number of MFCCs: {}\".format(count))\n",
        "\n",
        "displayMFCCs(train_data)\n",
        "displayMFCCs(test_data)"
      ]
    },
    {
      "cell_type": "code",
      "execution_count": null,
      "metadata": {
        "jupyter": {
          "outputs_hidden": false,
          "source_hidden": false
        },
        "nteract": {
          "transient": {
            "deleting": false
          }
        }
      },
      "outputs": [],
      "source": [
        "\"\"\"\n",
        "Neural Network Implementation\n",
        "\"\"\"\n",
        "\n",
        "# train set\n",
        "train_inputs = np.arrary(train_data[\"mfcc\"])\n",
        "train_targets = np.array(train_data[\"labels\"])\n",
        "\n",
        "# test set\n",
        "test_inputs = np.arrary(train_data[\"mfcc\"])\n",
        "test_targets = np.arrary(train_data[\"labels\"])\n",
        "\n",
        "# build the network architecture\n",
        "model = keras.Sequential([\n",
        "    # input layer \n",
        "    keras.layers.Flatten(input_shape=(input.shape[1], input.shape[2])),\n",
        "\n",
        "    # 1st hidden layer \n",
        "    # relu activiation -> Rectified Liner Unit (ReLU) \n",
        "    keras.layers.Dense(512, activation=\"relu\"),\n",
        "\n",
        "    # 2nd hidden layer \n",
        "    keras.layers.Dense(256, activation=\"relu\"),\n",
        "\n",
        "    # 3rd hidden layer \n",
        "    keras.layers.Dense(64, activation=\"relu\"),\n",
        "\n",
        "    # output layer \n",
        "    # softmax -> normalises output\n",
        "    keras.layers.Dense(5, activation=\"softmax\")\n",
        "])\n",
        "\n",
        "# compile the network\n",
        "optimizer = keras.optimizers.Adam(learning_rate=0.0001)\n",
        "model.compile(\n",
        "    optimizer=optimizer, \n",
        "    loss=\"sparse_categorical_crossentropy\",\n",
        "    metrics=[\"accuracy\"]\n",
        ")\n",
        "model.summary()\n",
        "\n",
        "# train the network\n",
        "model.fit(\n",
        "    train_inputs, \n",
        "    train_targets, \n",
        "    validation_data=(\n",
        "        test_inputs, \n",
        "        test_targets\n",
        "    ),\n",
        "    batch_size=32\n",
        ")"
      ]
    }
  ],
  "metadata": {
    "kernel_info": {
      "name": "python3-azureml"
    },
    "kernelspec": {
      "display_name": "Python 3.6 - AzureML",
      "language": "python",
      "name": "python3-azureml"
    },
    "language_info": {
      "codemirror_mode": {
        "name": "ipython",
        "version": 3
      },
      "file_extension": ".py",
      "mimetype": "text/x-python",
      "name": "python",
      "nbconvert_exporter": "python",
      "pygments_lexer": "ipython3",
      "version": "3.6.9"
    },
    "microsoft": {
      "host": {
        "AzureML": {
          "notebookHasBeenCompleted": true
        }
      }
    },
    "nteract": {
      "version": "nteract-front-end@1.0.0"
    }
  },
  "nbformat": 4,
  "nbformat_minor": 2
}
